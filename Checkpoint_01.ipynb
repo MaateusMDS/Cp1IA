{
  "nbformat": 4,
  "nbformat_minor": 0,
  "metadata": {
    "colab": {
      "provenance": []
    },
    "kernelspec": {
      "name": "python3",
      "display_name": "Python 3"
    },
    "language_info": {
      "name": "python"
    }
  },
  "cells": [
    {
      "cell_type": "markdown",
      "source": [
        "# **Checkpoint 01 - Modelagem de Dados e Aprendizagem de Máquina**\n",
        "\n",
        "## **Objetivo**\n",
        "Avaliar conceitos sobre Modelagem de dados e Aprendizado de Máquina (ML) adquiridos no curso.\n",
        "\n",
        "## **Descrição do Desafio**\n",
        "Você foi contratado por uma empresa que desenvolveu uma plataforma de compra e venda de carros usados. O funcionamento é bem simples, os usuários cadastram o carro que querem vender e esperam que outro usuário os compre, a empresa então fica com uma parte do valor de venda. Seu papel é desenvolver um modelo que possa determinar qual o melhor preço de venda para um usado.\n",
        "\n",
        "Para nortear o desenvolvimento, você precisa de um ponto de partida e determinou uma pergunta chave: **Qual o preço de venda de um veículo Volkswagen Sedan 2.0 a gasolina, ano 2005, com cerca de 172095 km rodados?**\n",
        "\n",
        "### **Orientações**\n",
        "Para responder a essa pergunta, você deve utilizar o dataset da empresa, que está representado no arquivo **carros.csv**, e seguir o roteiro proposto neste desafio."
      ],
      "metadata": {
        "id": "j-bzGvV3uE1y"
      }
    },
    {
      "cell_type": "markdown",
      "source": [
        "## **Exploração de Dados - 2 pontos**\n",
        "\n",
        "1 - Carregue o dataset e faça a inspeção nas 15 primeiras linhas para identificação dos atributos. Quantos dados existem nesse dataset? Qual a quantidade de atributos? Existem valores faltantes? De que tipo são os dados? (1,0)"
      ],
      "metadata": {
        "id": "3sD4e4IY13Ux"
      }
    },
    {
      "cell_type": "code",
      "source": [
        "#Sua resposta aqui\n",
        "import seaborn as sns\n",
        "import pandas as pd\n",
        "\n",
        "df = pd.read_csv(\"/content/sample_data/carros.csv\")\n",
        "\n",
        "print(df.head(15))\n",
        "print(\"-=\"*15)\n",
        "\n",
        "df.info()\n",
        "print(\"-=\"*15)\n",
        "\n",
        "tipos = [str(dtype) for dtype in df.dtypes.unique()]\n",
        "print(f\"Existe {len(df)} dados no dataset.\\nExiste {df.shape[1]} atributos no dataset.\\nExiste {df.isnull().sum().sum()} dados faltantes.\\nOs tipos de dados são:\", end=\" \")\n",
        "print(*tipos)\n",
        "\n",
        "df = df.dropna()\n"
      ],
      "metadata": {
        "id": "SsuvPzQQ5PAt",
        "colab": {
          "base_uri": "https://localhost:8080/"
        },
        "outputId": "90d7b6c1-6461-4dd9-eca7-245d9c5d15e3"
      },
      "execution_count": null,
      "outputs": [
        {
          "output_type": "stream",
          "name": "stdout",
          "text": [
            "            Brand     Price       Body  Mileage/1000  EngineV Engine Type  \\\n",
            "0             BMW    4200.0      sedan           277     2.00      Petrol   \n",
            "1   Mercedes-Benz    7900.0        van           427     2.90      Diesel   \n",
            "2   Mercedes-Benz   13300.0      sedan           358     5.00         Gas   \n",
            "3            Audi   23000.0  crossover           240     4.20      Petrol   \n",
            "4          Toyota   18300.0  crossover           120     2.00      Petrol   \n",
            "5   Mercedes-Benz  199999.0  crossover             0     5.50      Petrol   \n",
            "6             BMW    6100.0      sedan           438     2.00         Gas   \n",
            "7            Audi   14200.0      vagon           200     2.70      Diesel   \n",
            "8         Renault   10799.0      vagon           193     1.50      Diesel   \n",
            "9      Volkswagen    1400.0      other           212     1.80         Gas   \n",
            "10        Renault   11950.0      vagon           177     1.50      Diesel   \n",
            "11        Renault    2500.0      sedan           260     1.79      Petrol   \n",
            "12           Audi    9500.0      vagon           165     2.70         Gas   \n",
            "13     Volkswagen   10500.0      sedan           100     1.80      Petrol   \n",
            "14         Toyota   16000.0  crossover           250     4.70         Gas   \n",
            "\n",
            "   Registration  Year             Model  \n",
            "0           yes  1991               320  \n",
            "1           yes  1999      Sprinter 212  \n",
            "2           yes  2003             S 500  \n",
            "3           yes  2007                Q7  \n",
            "4           yes  2011             Rav 4  \n",
            "5           yes  2016            GLS 63  \n",
            "6           yes  1997               320  \n",
            "7           yes  2006                A6  \n",
            "8           yes  2012            Megane  \n",
            "9            no  1999           Golf IV  \n",
            "10          yes  2011            Megane  \n",
            "11          yes  1994                19  \n",
            "12          yes  2003        A6 Allroad  \n",
            "13          yes  2008         Passat B6  \n",
            "14          yes  2001  Land Cruiser 100  \n",
            "-=-=-=-=-=-=-=-=-=-=-=-=-=-=-=\n",
            "<class 'pandas.core.frame.DataFrame'>\n",
            "RangeIndex: 4345 entries, 0 to 4344\n",
            "Data columns (total 9 columns):\n",
            " #   Column        Non-Null Count  Dtype  \n",
            "---  ------        --------------  -----  \n",
            " 0   Brand         4345 non-null   object \n",
            " 1   Price         4173 non-null   float64\n",
            " 2   Body          4345 non-null   object \n",
            " 3   Mileage/1000  4345 non-null   int64  \n",
            " 4   EngineV       4195 non-null   float64\n",
            " 5   Engine Type   4345 non-null   object \n",
            " 6   Registration  4345 non-null   object \n",
            " 7   Year          4345 non-null   int64  \n",
            " 8   Model         4345 non-null   object \n",
            "dtypes: float64(2), int64(2), object(5)\n",
            "memory usage: 305.6+ KB\n",
            "-=-=-=-=-=-=-=-=-=-=-=-=-=-=-=\n",
            "Existe 4345 dados no dataset.\n",
            "Existe 9 atributos no dataset.\n",
            "Existe 322 dados faltantes.\n",
            "Os tipos de dados são: object float64 int64\n"
          ]
        }
      ]
    },
    {
      "cell_type": "markdown",
      "source": [
        "2 - Note que os dataset está no sistema americano. Converta os dados para o sistema métrico e altere o cabeçalho de forma que os dados façam sentido. (1,0)\n",
        "\n",
        "Obs: Os dados de Milhas dividos por mil, ou seja, multiplique o valor por 1.000 para ter o valor real!"
      ],
      "metadata": {
        "id": "qXaP-3r05bSZ"
      }
    },
    {
      "cell_type": "code",
      "source": [
        "#Sua resposta aqui\n",
        "df.rename(columns = {'Mileage/1000':'Quilometros', 'Brand':'Marca', 'Price':'Preço', 'Body':'Corpo', 'EngineV':'Motor', 'Engine Type':\"Combustivel\", 'Registration':'Fabricação', 'Year':'Ano', 'Model':\"Modelo\" }, inplace = True)\n",
        "df[\"Quilometros\"] = df[\"Quilometros\"] * 1000 * 1.6093\n",
        "df"
      ],
      "metadata": {
        "id": "FqWaPS5d7yk0",
        "colab": {
          "base_uri": "https://localhost:8080/",
          "height": 424
        },
        "outputId": "2bbff812-c4ec-4ab4-8501-cec9d0877b85"
      },
      "execution_count": null,
      "outputs": [
        {
          "output_type": "execute_result",
          "data": {
            "text/plain": [
              "              Marca     Preço      Corpo  Quilometros  Motor Combustivel  \\\n",
              "0               BMW    4200.0      sedan     445776.1    2.0      Petrol   \n",
              "1     Mercedes-Benz    7900.0        van     687171.1    2.9      Diesel   \n",
              "2     Mercedes-Benz   13300.0      sedan     576129.4    5.0         Gas   \n",
              "3              Audi   23000.0  crossover     386232.0    4.2      Petrol   \n",
              "4            Toyota   18300.0  crossover     193116.0    2.0      Petrol   \n",
              "...             ...       ...        ...          ...    ...         ...   \n",
              "4339         Toyota   17900.0      sedan      56325.5    1.6      Petrol   \n",
              "4340  Mercedes-Benz  125000.0      sedan      14483.7    3.0      Diesel   \n",
              "4341            BMW    6500.0      sedan       1609.3    3.5      Petrol   \n",
              "4342            BMW    8000.0      sedan     312204.2    2.0      Petrol   \n",
              "4344     Volkswagen   13500.0        van     199553.2    2.0      Diesel   \n",
              "\n",
              "     Fabricação   Ano             Modelo  \n",
              "0           yes  1991                320  \n",
              "1           yes  1999       Sprinter 212  \n",
              "2           yes  2003              S 500  \n",
              "3           yes  2007                 Q7  \n",
              "4           yes  2011              Rav 4  \n",
              "...         ...   ...                ...  \n",
              "4339        yes  2014            Corolla  \n",
              "4340        yes  2014              S 350  \n",
              "4341        yes  1999                535  \n",
              "4342        yes  1985                520  \n",
              "4344        yes  2013  T5 (Transporter)   \n",
              "\n",
              "[4025 rows x 9 columns]"
            ],
            "text/html": [
              "\n",
              "  <div id=\"df-610fa372-1812-45bf-97fa-aadb03bcca8e\">\n",
              "    <div class=\"colab-df-container\">\n",
              "      <div>\n",
              "<style scoped>\n",
              "    .dataframe tbody tr th:only-of-type {\n",
              "        vertical-align: middle;\n",
              "    }\n",
              "\n",
              "    .dataframe tbody tr th {\n",
              "        vertical-align: top;\n",
              "    }\n",
              "\n",
              "    .dataframe thead th {\n",
              "        text-align: right;\n",
              "    }\n",
              "</style>\n",
              "<table border=\"1\" class=\"dataframe\">\n",
              "  <thead>\n",
              "    <tr style=\"text-align: right;\">\n",
              "      <th></th>\n",
              "      <th>Marca</th>\n",
              "      <th>Preço</th>\n",
              "      <th>Corpo</th>\n",
              "      <th>Quilometros</th>\n",
              "      <th>Motor</th>\n",
              "      <th>Combustivel</th>\n",
              "      <th>Fabricação</th>\n",
              "      <th>Ano</th>\n",
              "      <th>Modelo</th>\n",
              "    </tr>\n",
              "  </thead>\n",
              "  <tbody>\n",
              "    <tr>\n",
              "      <th>0</th>\n",
              "      <td>BMW</td>\n",
              "      <td>4200.0</td>\n",
              "      <td>sedan</td>\n",
              "      <td>445776.1</td>\n",
              "      <td>2.0</td>\n",
              "      <td>Petrol</td>\n",
              "      <td>yes</td>\n",
              "      <td>1991</td>\n",
              "      <td>320</td>\n",
              "    </tr>\n",
              "    <tr>\n",
              "      <th>1</th>\n",
              "      <td>Mercedes-Benz</td>\n",
              "      <td>7900.0</td>\n",
              "      <td>van</td>\n",
              "      <td>687171.1</td>\n",
              "      <td>2.9</td>\n",
              "      <td>Diesel</td>\n",
              "      <td>yes</td>\n",
              "      <td>1999</td>\n",
              "      <td>Sprinter 212</td>\n",
              "    </tr>\n",
              "    <tr>\n",
              "      <th>2</th>\n",
              "      <td>Mercedes-Benz</td>\n",
              "      <td>13300.0</td>\n",
              "      <td>sedan</td>\n",
              "      <td>576129.4</td>\n",
              "      <td>5.0</td>\n",
              "      <td>Gas</td>\n",
              "      <td>yes</td>\n",
              "      <td>2003</td>\n",
              "      <td>S 500</td>\n",
              "    </tr>\n",
              "    <tr>\n",
              "      <th>3</th>\n",
              "      <td>Audi</td>\n",
              "      <td>23000.0</td>\n",
              "      <td>crossover</td>\n",
              "      <td>386232.0</td>\n",
              "      <td>4.2</td>\n",
              "      <td>Petrol</td>\n",
              "      <td>yes</td>\n",
              "      <td>2007</td>\n",
              "      <td>Q7</td>\n",
              "    </tr>\n",
              "    <tr>\n",
              "      <th>4</th>\n",
              "      <td>Toyota</td>\n",
              "      <td>18300.0</td>\n",
              "      <td>crossover</td>\n",
              "      <td>193116.0</td>\n",
              "      <td>2.0</td>\n",
              "      <td>Petrol</td>\n",
              "      <td>yes</td>\n",
              "      <td>2011</td>\n",
              "      <td>Rav 4</td>\n",
              "    </tr>\n",
              "    <tr>\n",
              "      <th>...</th>\n",
              "      <td>...</td>\n",
              "      <td>...</td>\n",
              "      <td>...</td>\n",
              "      <td>...</td>\n",
              "      <td>...</td>\n",
              "      <td>...</td>\n",
              "      <td>...</td>\n",
              "      <td>...</td>\n",
              "      <td>...</td>\n",
              "    </tr>\n",
              "    <tr>\n",
              "      <th>4339</th>\n",
              "      <td>Toyota</td>\n",
              "      <td>17900.0</td>\n",
              "      <td>sedan</td>\n",
              "      <td>56325.5</td>\n",
              "      <td>1.6</td>\n",
              "      <td>Petrol</td>\n",
              "      <td>yes</td>\n",
              "      <td>2014</td>\n",
              "      <td>Corolla</td>\n",
              "    </tr>\n",
              "    <tr>\n",
              "      <th>4340</th>\n",
              "      <td>Mercedes-Benz</td>\n",
              "      <td>125000.0</td>\n",
              "      <td>sedan</td>\n",
              "      <td>14483.7</td>\n",
              "      <td>3.0</td>\n",
              "      <td>Diesel</td>\n",
              "      <td>yes</td>\n",
              "      <td>2014</td>\n",
              "      <td>S 350</td>\n",
              "    </tr>\n",
              "    <tr>\n",
              "      <th>4341</th>\n",
              "      <td>BMW</td>\n",
              "      <td>6500.0</td>\n",
              "      <td>sedan</td>\n",
              "      <td>1609.3</td>\n",
              "      <td>3.5</td>\n",
              "      <td>Petrol</td>\n",
              "      <td>yes</td>\n",
              "      <td>1999</td>\n",
              "      <td>535</td>\n",
              "    </tr>\n",
              "    <tr>\n",
              "      <th>4342</th>\n",
              "      <td>BMW</td>\n",
              "      <td>8000.0</td>\n",
              "      <td>sedan</td>\n",
              "      <td>312204.2</td>\n",
              "      <td>2.0</td>\n",
              "      <td>Petrol</td>\n",
              "      <td>yes</td>\n",
              "      <td>1985</td>\n",
              "      <td>520</td>\n",
              "    </tr>\n",
              "    <tr>\n",
              "      <th>4344</th>\n",
              "      <td>Volkswagen</td>\n",
              "      <td>13500.0</td>\n",
              "      <td>van</td>\n",
              "      <td>199553.2</td>\n",
              "      <td>2.0</td>\n",
              "      <td>Diesel</td>\n",
              "      <td>yes</td>\n",
              "      <td>2013</td>\n",
              "      <td>T5 (Transporter)</td>\n",
              "    </tr>\n",
              "  </tbody>\n",
              "</table>\n",
              "<p>4025 rows × 9 columns</p>\n",
              "</div>\n",
              "      <button class=\"colab-df-convert\" onclick=\"convertToInteractive('df-610fa372-1812-45bf-97fa-aadb03bcca8e')\"\n",
              "              title=\"Convert this dataframe to an interactive table.\"\n",
              "              style=\"display:none;\">\n",
              "        \n",
              "  <svg xmlns=\"http://www.w3.org/2000/svg\" height=\"24px\"viewBox=\"0 0 24 24\"\n",
              "       width=\"24px\">\n",
              "    <path d=\"M0 0h24v24H0V0z\" fill=\"none\"/>\n",
              "    <path d=\"M18.56 5.44l.94 2.06.94-2.06 2.06-.94-2.06-.94-.94-2.06-.94 2.06-2.06.94zm-11 1L8.5 8.5l.94-2.06 2.06-.94-2.06-.94L8.5 2.5l-.94 2.06-2.06.94zm10 10l.94 2.06.94-2.06 2.06-.94-2.06-.94-.94-2.06-.94 2.06-2.06.94z\"/><path d=\"M17.41 7.96l-1.37-1.37c-.4-.4-.92-.59-1.43-.59-.52 0-1.04.2-1.43.59L10.3 9.45l-7.72 7.72c-.78.78-.78 2.05 0 2.83L4 21.41c.39.39.9.59 1.41.59.51 0 1.02-.2 1.41-.59l7.78-7.78 2.81-2.81c.8-.78.8-2.07 0-2.86zM5.41 20L4 18.59l7.72-7.72 1.47 1.35L5.41 20z\"/>\n",
              "  </svg>\n",
              "      </button>\n",
              "      \n",
              "  <style>\n",
              "    .colab-df-container {\n",
              "      display:flex;\n",
              "      flex-wrap:wrap;\n",
              "      gap: 12px;\n",
              "    }\n",
              "\n",
              "    .colab-df-convert {\n",
              "      background-color: #E8F0FE;\n",
              "      border: none;\n",
              "      border-radius: 50%;\n",
              "      cursor: pointer;\n",
              "      display: none;\n",
              "      fill: #1967D2;\n",
              "      height: 32px;\n",
              "      padding: 0 0 0 0;\n",
              "      width: 32px;\n",
              "    }\n",
              "\n",
              "    .colab-df-convert:hover {\n",
              "      background-color: #E2EBFA;\n",
              "      box-shadow: 0px 1px 2px rgba(60, 64, 67, 0.3), 0px 1px 3px 1px rgba(60, 64, 67, 0.15);\n",
              "      fill: #174EA6;\n",
              "    }\n",
              "\n",
              "    [theme=dark] .colab-df-convert {\n",
              "      background-color: #3B4455;\n",
              "      fill: #D2E3FC;\n",
              "    }\n",
              "\n",
              "    [theme=dark] .colab-df-convert:hover {\n",
              "      background-color: #434B5C;\n",
              "      box-shadow: 0px 1px 3px 1px rgba(0, 0, 0, 0.15);\n",
              "      filter: drop-shadow(0px 1px 2px rgba(0, 0, 0, 0.3));\n",
              "      fill: #FFFFFF;\n",
              "    }\n",
              "  </style>\n",
              "\n",
              "      <script>\n",
              "        const buttonEl =\n",
              "          document.querySelector('#df-610fa372-1812-45bf-97fa-aadb03bcca8e button.colab-df-convert');\n",
              "        buttonEl.style.display =\n",
              "          google.colab.kernel.accessAllowed ? 'block' : 'none';\n",
              "\n",
              "        async function convertToInteractive(key) {\n",
              "          const element = document.querySelector('#df-610fa372-1812-45bf-97fa-aadb03bcca8e');\n",
              "          const dataTable =\n",
              "            await google.colab.kernel.invokeFunction('convertToInteractive',\n",
              "                                                     [key], {});\n",
              "          if (!dataTable) return;\n",
              "\n",
              "          const docLinkHtml = 'Like what you see? Visit the ' +\n",
              "            '<a target=\"_blank\" href=https://colab.research.google.com/notebooks/data_table.ipynb>data table notebook</a>'\n",
              "            + ' to learn more about interactive tables.';\n",
              "          element.innerHTML = '';\n",
              "          dataTable['output_type'] = 'display_data';\n",
              "          await google.colab.output.renderOutput(dataTable, element);\n",
              "          const docLink = document.createElement('div');\n",
              "          docLink.innerHTML = docLinkHtml;\n",
              "          element.appendChild(docLink);\n",
              "        }\n",
              "      </script>\n",
              "    </div>\n",
              "  </div>\n",
              "  "
            ]
          },
          "metadata": {},
          "execution_count": 12
        }
      ]
    },
    {
      "cell_type": "markdown",
      "source": [
        "## **Analise descritiva dos dados - 2 pontos**\n",
        "\n",
        "3 - Faça uma análise exploratória dos dados, utilizando gráficos e tabelas para realizar correlações entre os atributos e que permitam criar um cenário de correlação entre eles."
      ],
      "metadata": {
        "id": "JkvVJsjg5kTq"
      }
    },
    {
      "cell_type": "code",
      "source": [
        "import matplotlib.pyplot as plt\n",
        "\n",
        "#Sua resposta aqui\n",
        "correlacao = df.corr()\n",
        "sns.heatmap(correlacao, annot = True, fmt=\".2\", linewidths=.2)\n",
        "plt.show()\n",
        "\n",
        "#Preço se relaciona com ano e com EngineV\n",
        "sns.barplot(data = df, x=\"Ano\", y=\"Preço\")\n",
        "plt.show()\n",
        "\n",
        "sns.barplot(data = df, x=\"Motor\", y=\"Preço\")"
      ],
      "metadata": {
        "id": "ENdW7hn56FFp",
        "colab": {
          "base_uri": "https://localhost:8080/",
          "height": 810
        },
        "outputId": "33d1a881-a70c-4304-8f7c-228a7c6612f9"
      },
      "execution_count": null,
      "outputs": [
        {
          "output_type": "display_data",
          "data": {
            "text/plain": [
              "<Figure size 432x288 with 2 Axes>"
            ],
            "image/png": "[encoded data removed]"
          },
          "metadata": {
            "needs_background": "light"
          }
        },
        {
          "output_type": "display_data",
          "data": {
            "text/plain": [
              "<Figure size 432x288 with 1 Axes>"
            ],
            "image/png": "[encoded data removed]"
          },
          "metadata": {
            "needs_background": "light"
          }
        },
        {
          "output_type": "execute_result",
          "data": {
            "text/plain": [
              "<Axes: xlabel='Motor', ylabel='Preço'>"
            ]
          },
          "metadata": {},
          "execution_count": 13
        },
        {
          "output_type": "display_data",
          "data": {
            "text/plain": [
              "<Figure size 432x288 with 1 Axes>"
            ],
            "image/png": "[encoded data removed]"
          },
          "metadata": {
            "needs_background": "light"
          }
        }
      ]
    },
    {
      "cell_type": "markdown",
      "source": [
        "## **Desenvolvimento do Modelo - 2 pontos**\n",
        "\n",
        "4 - O conjunto de dados indica a aplicação de qual modelo de aprendizagem de máquina para responder a pergunta do desafio? Por quê? (1,0)"
      ],
      "metadata": {
        "id": "O_m8RaIs6KIz"
      }
    },
    {
      "cell_type": "markdown",
      "source": [
        "Resposta: Modelo supervisionado, por estarmos utilizamos parte dos dados que já sabemos a resposta para treinar nosso modelo"
      ],
      "metadata": {
        "id": "nWTzZl2K6kY_"
      }
    },
    {
      "cell_type": "markdown",
      "source": [
        "5 - Qual a técnica sugerida para este projeto? Por quê? (1,0)"
      ],
      "metadata": {
        "id": "uUkBz0pu6nLk"
      }
    },
    {
      "cell_type": "markdown",
      "source": [
        "Resposta: *A técnica que deverá ser usada nesse projeto é o de regressão, por estarmos tratando de valores numéricos.*"
      ],
      "metadata": {
        "id": "2V2a4DRv6xg_"
      }
    },
    {
      "cell_type": "markdown",
      "source": [
        "Com base nas suas respostas, agora escolha dois algortimos para implementar e comparar a performance de cada um deles ao final do desafio."
      ],
      "metadata": {
        "id": "wxJjN_cO7XbH"
      }
    },
    {
      "cell_type": "markdown",
      "source": [
        "Resposta:\n",
        "\n",
        "Algoritmo 1: Random Forest\n",
        "\n",
        "Algoritmo 2: Gradient Boost"
      ],
      "metadata": {
        "id": "N6tmcuJk7fn4"
      }
    },
    {
      "cell_type": "markdown",
      "source": [
        "## **Treinamento e teste do Modelo - 3 pontos**\n",
        "\n",
        "6 - Crie um subset dos dados que serão utilizados para o treinamento e para o teste do modelo. Divida este subset em treino e teste. (1,0) "
      ],
      "metadata": {
        "id": "H9gsbQvj6y_m"
      }
    },
    {
      "cell_type": "code",
      "source": [
        "from sklearn.model_selection import train_test_split\n",
        "\n",
        "df_copy = df.copy()\n",
        "\n",
        "df = df.drop(columns=['Fabricação', 'Modelo'])\n",
        "df = pd.get_dummies(df, drop_first = True)\n",
        "\n",
        "X = df.drop(columns=['Preço'])\n",
        "y = df['Preço']\n",
        "\n",
        "X_train, X_test, y_train, y_test = train_test_split(X, y, test_size=0.2, random_state=42)"
      ],
      "metadata": {
        "id": "K-UQEa2aGmDm"
      },
      "execution_count": null,
      "outputs": []
    },
    {
      "cell_type": "code",
      "source": [
        "display(df_copy.head(5))\n",
        "\n",
        "df.head(5)"
      ],
      "metadata": {
        "colab": {
          "base_uri": "https://localhost:8080/",
          "height": 433
        },
        "id": "YH-nD0bzluDw",
        "outputId": "3a34c478-573c-49cd-c71d-f9704f90f697"
      },
      "execution_count": null,
      "outputs": [
        {
          "output_type": "display_data",
          "data": {
            "text/plain": [
              "           Marca    Preço      Corpo  Quilometros  Motor Combustivel  \\\n",
              "0            BMW   4200.0      sedan     445776.1    2.0      Petrol   \n",
              "1  Mercedes-Benz   7900.0        van     687171.1    2.9      Diesel   \n",
              "2  Mercedes-Benz  13300.0      sedan     576129.4    5.0         Gas   \n",
              "3           Audi  23000.0  crossover     386232.0    4.2      Petrol   \n",
              "4         Toyota  18300.0  crossover     193116.0    2.0      Petrol   \n",
              "\n",
              "  Fabricação   Ano        Modelo  \n",
              "0        yes  1991           320  \n",
              "1        yes  1999  Sprinter 212  \n",
              "2        yes  2003         S 500  \n",
              "3        yes  2007            Q7  \n",
              "4        yes  2011         Rav 4  "
            ],
            "text/html": [
              "\n",
              "  <div id=\"df-a586182a-1821-422e-a342-5645fbb80c16\">\n",
              "    <div class=\"colab-df-container\">\n",
              "      <div>\n",
              "<style scoped>\n",
              "    .dataframe tbody tr th:only-of-type {\n",
              "        vertical-align: middle;\n",
              "    }\n",
              "\n",
              "    .dataframe tbody tr th {\n",
              "        vertical-align: top;\n",
              "    }\n",
              "\n",
              "    .dataframe thead th {\n",
              "        text-align: right;\n",
              "    }\n",
              "</style>\n",
              "<table border=\"1\" class=\"dataframe\">\n",
              "  <thead>\n",
              "    <tr style=\"text-align: right;\">\n",
              "      <th></th>\n",
              "      <th>Marca</th>\n",
              "      <th>Preço</th>\n",
              "      <th>Corpo</th>\n",
              "      <th>Quilometros</th>\n",
              "      <th>Motor</th>\n",
              "      <th>Combustivel</th>\n",
              "      <th>Fabricação</th>\n",
              "      <th>Ano</th>\n",
              "      <th>Modelo</th>\n",
              "    </tr>\n",
              "  </thead>\n",
              "  <tbody>\n",
              "    <tr>\n",
              "      <th>0</th>\n",
              "      <td>BMW</td>\n",
              "      <td>4200.0</td>\n",
              "      <td>sedan</td>\n",
              "      <td>445776.1</td>\n",
              "      <td>2.0</td>\n",
              "      <td>Petrol</td>\n",
              "      <td>yes</td>\n",
              "      <td>1991</td>\n",
              "      <td>320</td>\n",
              "    </tr>\n",
              "    <tr>\n",
              "      <th>1</th>\n",
              "      <td>Mercedes-Benz</td>\n",
              "      <td>7900.0</td>\n",
              "      <td>van</td>\n",
              "      <td>687171.1</td>\n",
              "      <td>2.9</td>\n",
              "      <td>Diesel</td>\n",
              "      <td>yes</td>\n",
              "      <td>1999</td>\n",
              "      <td>Sprinter 212</td>\n",
              "    </tr>\n",
              "    <tr>\n",
              "      <th>2</th>\n",
              "      <td>Mercedes-Benz</td>\n",
              "      <td>13300.0</td>\n",
              "      <td>sedan</td>\n",
              "      <td>576129.4</td>\n",
              "      <td>5.0</td>\n",
              "      <td>Gas</td>\n",
              "      <td>yes</td>\n",
              "      <td>2003</td>\n",
              "      <td>S 500</td>\n",
              "    </tr>\n",
              "    <tr>\n",
              "      <th>3</th>\n",
              "      <td>Audi</td>\n",
              "      <td>23000.0</td>\n",
              "      <td>crossover</td>\n",
              "      <td>386232.0</td>\n",
              "      <td>4.2</td>\n",
              "      <td>Petrol</td>\n",
              "      <td>yes</td>\n",
              "      <td>2007</td>\n",
              "      <td>Q7</td>\n",
              "    </tr>\n",
              "    <tr>\n",
              "      <th>4</th>\n",
              "      <td>Toyota</td>\n",
              "      <td>18300.0</td>\n",
              "      <td>crossover</td>\n",
              "      <td>193116.0</td>\n",
              "      <td>2.0</td>\n",
              "      <td>Petrol</td>\n",
              "      <td>yes</td>\n",
              "      <td>2011</td>\n",
              "      <td>Rav 4</td>\n",
              "    </tr>\n",
              "  </tbody>\n",
              "</table>\n",
              "</div>\n",
              "      <button class=\"colab-df-convert\" onclick=\"convertToInteractive('df-a586182a-1821-422e-a342-5645fbb80c16')\"\n",
              "              title=\"Convert this dataframe to an interactive table.\"\n",
              "              style=\"display:none;\">\n",
              "        \n",
              "  <svg xmlns=\"http://www.w3.org/2000/svg\" height=\"24px\"viewBox=\"0 0 24 24\"\n",
              "       width=\"24px\">\n",
              "    <path d=\"M0 0h24v24H0V0z\" fill=\"none\"/>\n",
              "    <path d=\"M18.56 5.44l.94 2.06.94-2.06 2.06-.94-2.06-.94-.94-2.06-.94 2.06-2.06.94zm-11 1L8.5 8.5l.94-2.06 2.06-.94-2.06-.94L8.5 2.5l-.94 2.06-2.06.94zm10 10l.94 2.06.94-2.06 2.06-.94-2.06-.94-.94-2.06-.94 2.06-2.06.94z\"/><path d=\"M17.41 7.96l-1.37-1.37c-.4-.4-.92-.59-1.43-.59-.52 0-1.04.2-1.43.59L10.3 9.45l-7.72 7.72c-.78.78-.78 2.05 0 2.83L4 21.41c.39.39.9.59 1.41.59.51 0 1.02-.2 1.41-.59l7.78-7.78 2.81-2.81c.8-.78.8-2.07 0-2.86zM5.41 20L4 18.59l7.72-7.72 1.47 1.35L5.41 20z\"/>\n",
              "  </svg>\n",
              "      </button>\n",
              "      \n",
              "  <style>\n",
              "    .colab-df-container {\n",
              "      display:flex;\n",
              "      flex-wrap:wrap;\n",
              "      gap: 12px;\n",
              "    }\n",
              "\n",
              "    .colab-df-convert {\n",
              "      background-color: #E8F0FE;\n",
              "      border: none;\n",
              "      border-radius: 50%;\n",
              "      cursor: pointer;\n",
              "      display: none;\n",
              "      fill: #1967D2;\n",
              "      height: 32px;\n",
              "      padding: 0 0 0 0;\n",
              "      width: 32px;\n",
              "    }\n",
              "\n",
              "    .colab-df-convert:hover {\n",
              "      background-color: #E2EBFA;\n",
              "      box-shadow: 0px 1px 2px rgba(60, 64, 67, 0.3), 0px 1px 3px 1px rgba(60, 64, 67, 0.15);\n",
              "      fill: #174EA6;\n",
              "    }\n",
              "\n",
              "    [theme=dark] .colab-df-convert {\n",
              "      background-color: #3B4455;\n",
              "      fill: #D2E3FC;\n",
              "    }\n",
              "\n",
              "    [theme=dark] .colab-df-convert:hover {\n",
              "      background-color: #434B5C;\n",
              "      box-shadow: 0px 1px 3px 1px rgba(0, 0, 0, 0.15);\n",
              "      filter: drop-shadow(0px 1px 2px rgba(0, 0, 0, 0.3));\n",
              "      fill: #FFFFFF;\n",
              "    }\n",
              "  </style>\n",
              "\n",
              "      <script>\n",
              "        const buttonEl =\n",
              "          document.querySelector('#df-a586182a-1821-422e-a342-5645fbb80c16 button.colab-df-convert');\n",
              "        buttonEl.style.display =\n",
              "          google.colab.kernel.accessAllowed ? 'block' : 'none';\n",
              "\n",
              "        async function convertToInteractive(key) {\n",
              "          const element = document.querySelector('#df-a586182a-1821-422e-a342-5645fbb80c16');\n",
              "          const dataTable =\n",
              "            await google.colab.kernel.invokeFunction('convertToInteractive',\n",
              "                                                     [key], {});\n",
              "          if (!dataTable) return;\n",
              "\n",
              "          const docLinkHtml = 'Like what you see? Visit the ' +\n",
              "            '<a target=\"_blank\" href=https://colab.research.google.com/notebooks/data_table.ipynb>data table notebook</a>'\n",
              "            + ' to learn more about interactive tables.';\n",
              "          element.innerHTML = '';\n",
              "          dataTable['output_type'] = 'display_data';\n",
              "          await google.colab.output.renderOutput(dataTable, element);\n",
              "          const docLink = document.createElement('div');\n",
              "          docLink.innerHTML = docLinkHtml;\n",
              "          element.appendChild(docLink);\n",
              "        }\n",
              "      </script>\n",
              "    </div>\n",
              "  </div>\n",
              "  "
            ]
          },
          "metadata": {}
        },
        {
          "output_type": "execute_result",
          "data": {
            "text/plain": [
              "     Preço  Quilometros  Motor   Ano  Marca_BMW  Marca_Mercedes-Benz  \\\n",
              "0   4200.0     445776.1    2.0  1991          1                    0   \n",
              "1   7900.0     687171.1    2.9  1999          0                    1   \n",
              "2  13300.0     576129.4    5.0  2003          0                    1   \n",
              "3  23000.0     386232.0    4.2  2007          0                    0   \n",
              "4  18300.0     193116.0    2.0  2011          0                    0   \n",
              "\n",
              "   Marca_Mitsubishi  Marca_Renault  Marca_Toyota  Marca_Volkswagen  \\\n",
              "0                 0              0             0                 0   \n",
              "1                 0              0             0                 0   \n",
              "2                 0              0             0                 0   \n",
              "3                 0              0             0                 0   \n",
              "4                 0              0             1                 0   \n",
              "\n",
              "   Corpo_hatch  Corpo_other  Corpo_sedan  Corpo_vagon  Corpo_van  \\\n",
              "0            0            0            1            0          0   \n",
              "1            0            0            0            0          1   \n",
              "2            0            0            1            0          0   \n",
              "3            0            0            0            0          0   \n",
              "4            0            0            0            0          0   \n",
              "\n",
              "   Combustivel_Gas  Combustivel_Other  Combustivel_Petrol  \n",
              "0                0                  0                   1  \n",
              "1                0                  0                   0  \n",
              "2                1                  0                   0  \n",
              "3                0                  0                   1  \n",
              "4                0                  0                   1  "
            ],
            "text/html": [
              "\n",
              "  <div id=\"df-d8bff135-8971-4a98-be22-f7be1a34570e\">\n",
              "    <div class=\"colab-df-container\">\n",
              "      <div>\n",
              "<style scoped>\n",
              "    .dataframe tbody tr th:only-of-type {\n",
              "        vertical-align: middle;\n",
              "    }\n",
              "\n",
              "    .dataframe tbody tr th {\n",
              "        vertical-align: top;\n",
              "    }\n",
              "\n",
              "    .dataframe thead th {\n",
              "        text-align: right;\n",
              "    }\n",
              "</style>\n",
              "<table border=\"1\" class=\"dataframe\">\n",
              "  <thead>\n",
              "    <tr style=\"text-align: right;\">\n",
              "      <th></th>\n",
              "      <th>Preço</th>\n",
              "      <th>Quilometros</th>\n",
              "      <th>Motor</th>\n",
              "      <th>Ano</th>\n",
              "      <th>Marca_BMW</th>\n",
              "      <th>Marca_Mercedes-Benz</th>\n",
              "      <th>Marca_Mitsubishi</th>\n",
              "      <th>Marca_Renault</th>\n",
              "      <th>Marca_Toyota</th>\n",
              "      <th>Marca_Volkswagen</th>\n",
              "      <th>Corpo_hatch</th>\n",
              "      <th>Corpo_other</th>\n",
              "      <th>Corpo_sedan</th>\n",
              "      <th>Corpo_vagon</th>\n",
              "      <th>Corpo_van</th>\n",
              "      <th>Combustivel_Gas</th>\n",
              "      <th>Combustivel_Other</th>\n",
              "      <th>Combustivel_Petrol</th>\n",
              "    </tr>\n",
              "  </thead>\n",
              "  <tbody>\n",
              "    <tr>\n",
              "      <th>0</th>\n",
              "      <td>4200.0</td>\n",
              "      <td>445776.1</td>\n",
              "      <td>2.0</td>\n",
              "      <td>1991</td>\n",
              "      <td>1</td>\n",
              "      <td>0</td>\n",
              "      <td>0</td>\n",
              "      <td>0</td>\n",
              "      <td>0</td>\n",
              "      <td>0</td>\n",
              "      <td>0</td>\n",
              "      <td>0</td>\n",
              "      <td>1</td>\n",
              "      <td>0</td>\n",
              "      <td>0</td>\n",
              "      <td>0</td>\n",
              "      <td>0</td>\n",
              "      <td>1</td>\n",
              "    </tr>\n",
              "    <tr>\n",
              "      <th>1</th>\n",
              "      <td>7900.0</td>\n",
              "      <td>687171.1</td>\n",
              "      <td>2.9</td>\n",
              "      <td>1999</td>\n",
              "      <td>0</td>\n",
              "      <td>1</td>\n",
              "      <td>0</td>\n",
              "      <td>0</td>\n",
              "      <td>0</td>\n",
              "      <td>0</td>\n",
              "      <td>0</td>\n",
              "      <td>0</td>\n",
              "      <td>0</td>\n",
              "      <td>0</td>\n",
              "      <td>1</td>\n",
              "      <td>0</td>\n",
              "      <td>0</td>\n",
              "      <td>0</td>\n",
              "    </tr>\n",
              "    <tr>\n",
              "      <th>2</th>\n",
              "      <td>13300.0</td>\n",
              "      <td>576129.4</td>\n",
              "      <td>5.0</td>\n",
              "      <td>2003</td>\n",
              "      <td>0</td>\n",
              "      <td>1</td>\n",
              "      <td>0</td>\n",
              "      <td>0</td>\n",
              "      <td>0</td>\n",
              "      <td>0</td>\n",
              "      <td>0</td>\n",
              "      <td>0</td>\n",
              "      <td>1</td>\n",
              "      <td>0</td>\n",
              "      <td>0</td>\n",
              "      <td>1</td>\n",
              "      <td>0</td>\n",
              "      <td>0</td>\n",
              "    </tr>\n",
              "    <tr>\n",
              "      <th>3</th>\n",
              "      <td>23000.0</td>\n",
              "      <td>386232.0</td>\n",
              "      <td>4.2</td>\n",
              "      <td>2007</td>\n",
              "      <td>0</td>\n",
              "      <td>0</td>\n",
              "      <td>0</td>\n",
              "      <td>0</td>\n",
              "      <td>0</td>\n",
              "      <td>0</td>\n",
              "      <td>0</td>\n",
              "      <td>0</td>\n",
              "      <td>0</td>\n",
              "      <td>0</td>\n",
              "      <td>0</td>\n",
              "      <td>0</td>\n",
              "      <td>0</td>\n",
              "      <td>1</td>\n",
              "    </tr>\n",
              "    <tr>\n",
              "      <th>4</th>\n",
              "      <td>18300.0</td>\n",
              "      <td>193116.0</td>\n",
              "      <td>2.0</td>\n",
              "      <td>2011</td>\n",
              "      <td>0</td>\n",
              "      <td>0</td>\n",
              "      <td>0</td>\n",
              "      <td>0</td>\n",
              "      <td>1</td>\n",
              "      <td>0</td>\n",
              "      <td>0</td>\n",
              "      <td>0</td>\n",
              "      <td>0</td>\n",
              "      <td>0</td>\n",
              "      <td>0</td>\n",
              "      <td>0</td>\n",
              "      <td>0</td>\n",
              "      <td>1</td>\n",
              "    </tr>\n",
              "  </tbody>\n",
              "</table>\n",
              "</div>\n",
              "      <button class=\"colab-df-convert\" onclick=\"convertToInteractive('df-d8bff135-8971-4a98-be22-f7be1a34570e')\"\n",
              "              title=\"Convert this dataframe to an interactive table.\"\n",
              "              style=\"display:none;\">\n",
              "        \n",
              "  <svg xmlns=\"http://www.w3.org/2000/svg\" height=\"24px\"viewBox=\"0 0 24 24\"\n",
              "       width=\"24px\">\n",
              "    <path d=\"M0 0h24v24H0V0z\" fill=\"none\"/>\n",
              "    <path d=\"M18.56 5.44l.94 2.06.94-2.06 2.06-.94-2.06-.94-.94-2.06-.94 2.06-2.06.94zm-11 1L8.5 8.5l.94-2.06 2.06-.94-2.06-.94L8.5 2.5l-.94 2.06-2.06.94zm10 10l.94 2.06.94-2.06 2.06-.94-2.06-.94-.94-2.06-.94 2.06-2.06.94z\"/><path d=\"M17.41 7.96l-1.37-1.37c-.4-.4-.92-.59-1.43-.59-.52 0-1.04.2-1.43.59L10.3 9.45l-7.72 7.72c-.78.78-.78 2.05 0 2.83L4 21.41c.39.39.9.59 1.41.59.51 0 1.02-.2 1.41-.59l7.78-7.78 2.81-2.81c.8-.78.8-2.07 0-2.86zM5.41 20L4 18.59l7.72-7.72 1.47 1.35L5.41 20z\"/>\n",
              "  </svg>\n",
              "      </button>\n",
              "      \n",
              "  <style>\n",
              "    .colab-df-container {\n",
              "      display:flex;\n",
              "      flex-wrap:wrap;\n",
              "      gap: 12px;\n",
              "    }\n",
              "\n",
              "    .colab-df-convert {\n",
              "      background-color: #E8F0FE;\n",
              "      border: none;\n",
              "      border-radius: 50%;\n",
              "      cursor: pointer;\n",
              "      display: none;\n",
              "      fill: #1967D2;\n",
              "      height: 32px;\n",
              "      padding: 0 0 0 0;\n",
              "      width: 32px;\n",
              "    }\n",
              "\n",
              "    .colab-df-convert:hover {\n",
              "      background-color: #E2EBFA;\n",
              "      box-shadow: 0px 1px 2px rgba(60, 64, 67, 0.3), 0px 1px 3px 1px rgba(60, 64, 67, 0.15);\n",
              "      fill: #174EA6;\n",
              "    }\n",
              "\n",
              "    [theme=dark] .colab-df-convert {\n",
              "      background-color: #3B4455;\n",
              "      fill: #D2E3FC;\n",
              "    }\n",
              "\n",
              "    [theme=dark] .colab-df-convert:hover {\n",
              "      background-color: #434B5C;\n",
              "      box-shadow: 0px 1px 3px 1px rgba(0, 0, 0, 0.15);\n",
              "      filter: drop-shadow(0px 1px 2px rgba(0, 0, 0, 0.3));\n",
              "      fill: #FFFFFF;\n",
              "    }\n",
              "  </style>\n",
              "\n",
              "      <script>\n",
              "        const buttonEl =\n",
              "          document.querySelector('#df-d8bff135-8971-4a98-be22-f7be1a34570e button.colab-df-convert');\n",
              "        buttonEl.style.display =\n",
              "          google.colab.kernel.accessAllowed ? 'block' : 'none';\n",
              "\n",
              "        async function convertToInteractive(key) {\n",
              "          const element = document.querySelector('#df-d8bff135-8971-4a98-be22-f7be1a34570e');\n",
              "          const dataTable =\n",
              "            await google.colab.kernel.invokeFunction('convertToInteractive',\n",
              "                                                     [key], {});\n",
              "          if (!dataTable) return;\n",
              "\n",
              "          const docLinkHtml = 'Like what you see? Visit the ' +\n",
              "            '<a target=\"_blank\" href=https://colab.research.google.com/notebooks/data_table.ipynb>data table notebook</a>'\n",
              "            + ' to learn more about interactive tables.';\n",
              "          element.innerHTML = '';\n",
              "          dataTable['output_type'] = 'display_data';\n",
              "          await google.colab.output.renderOutput(dataTable, element);\n",
              "          const docLink = document.createElement('div');\n",
              "          docLink.innerHTML = docLinkHtml;\n",
              "          element.appendChild(docLink);\n",
              "        }\n",
              "      </script>\n",
              "    </div>\n",
              "  </div>\n",
              "  "
            ]
          },
          "metadata": {},
          "execution_count": 15
        }
      ]
    },
    {
      "cell_type": "markdown",
      "source": [
        "7 - Faça o treinamento e teste dos 2 algoritmos escolhidos. Utilize uma métrica (ex. R2-score, RMSE e MAE...) para avaliar a performance dos modelos."
      ],
      "metadata": {
        "id": "QpDpVyWw7-Au"
      }
    },
    {
      "cell_type": "markdown",
      "source": [
        "7.1 - Algoritmo 1: (0,5)\n"
      ],
      "metadata": {
        "id": "Ft06krzb8RAV"
      }
    },
    {
      "cell_type": "code",
      "source": [
        "#Sua resposta aqui\n",
        "from sklearn.ensemble import RandomForestRegressor\n",
        "import numpy as np\n",
        "from sklearn.metrics import mean_squared_error\n",
        "from sklearn.metrics import mean_absolute_error\n",
        "from sklearn.metrics import r2_score\n",
        "\n",
        "rfr = RandomForestRegressor(n_estimators=20, max_depth=3, random_state=42)\n",
        "\n",
        "rfr.fit(X_train, y_train)\n",
        "y_pred = rfr.predict(X_test)\n",
        "\n",
        "print(\"Soma dos Erros ao Quadrado (SSE): %2.f \" % np.sum((y_pred - y_test)**2))\n",
        "print(\"Erro Quadrático Médio (MSE): %.2f\" % mean_squared_error(y_test,y_pred))\n",
        "print(\"Erro Médio Absoluto (MAE): %.2f\" % mean_absolute_error(y_test, y_pred))\n",
        "print(\"Raiz do Erro Quadrático Médio (RMSE): %.2f \" % np.sqrt(mean_squared_error(y_test, y_pred)))\n",
        "print(\"R2-score: %.2f\" % r2_score(y_test,y_pred) )"
      ],
      "metadata": {
        "id": "vf4QB14J8Usb",
        "colab": {
          "base_uri": "https://localhost:8080/"
        },
        "outputId": "43d10d18-9a1f-462e-f32a-5f94ec2bc8b8"
      },
      "execution_count": null,
      "outputs": [
        {
          "output_type": "stream",
          "name": "stdout",
          "text": [
            "Soma dos Erros ao Quadrado (SSE): 96193452866 \n",
            "Erro Quadrático Médio (MSE): 119494972.50\n",
            "Erro Médio Absoluto (MAE): 6281.15\n",
            "Raiz do Erro Quadrático Médio (RMSE): 10931.38 \n",
            "R2-score: 0.82\n"
          ]
        }
      ]
    },
    {
      "cell_type": "markdown",
      "source": [
        "7.2 - Algoritmo 2:  (0,5)"
      ],
      "metadata": {
        "id": "S8MKlSSM8dz5"
      }
    },
    {
      "cell_type": "code",
      "source": [
        "from sklearn.ensemble import GradientBoostingRegressor\n",
        "\n",
        "gbr = GradientBoostingRegressor()\n",
        "\n",
        "gbr.fit(X_train, y_train)\n",
        "\n",
        "y_pred = gbr.predict(X_test)\n",
        "\n",
        "print(\"Soma dos Erros ao Quadrado (SSE): %2.f \" % np.sum((y_pred - y_test)**2))\n",
        "print(\"Erro Quadrático Médio (MSE): %.2f\" % mean_squared_error(y_test,y_pred))\n",
        "print(\"Erro Médio Absoluto (MAE): %.2f\" % mean_absolute_error(y_test, y_pred))\n",
        "print(\"Raiz do Erro Quadrático Médio (RMSE): %.2f \" % np.sqrt(mean_squared_error(y_test, y_pred)))\n",
        "print(\"R2-score: %.2f\" % r2_score(y_test,y_pred) )"
      ],
      "metadata": {
        "colab": {
          "base_uri": "https://localhost:8080/"
        },
        "id": "2TCdExOgjm6z",
        "outputId": "4f6c7e80-34ba-4710-ef55-57cc6d500478"
      },
      "execution_count": null,
      "outputs": [
        {
          "output_type": "stream",
          "name": "stdout",
          "text": [
            "Soma dos Erros ao Quadrado (SSE): 43483462664 \n",
            "Erro Quadrático Médio (MSE): 54016723.81\n",
            "Erro Médio Absoluto (MAE): 4145.09\n",
            "Raiz do Erro Quadrático Médio (RMSE): 7349.61 \n",
            "R2-score: 0.92\n"
          ]
        }
      ]
    },
    {
      "cell_type": "markdown",
      "source": [
        "7.3 - Qual dos algortimos obteve melhor resultado? Por quê? (1,0)"
      ],
      "metadata": {
        "id": "rBJqsqIB84E_"
      }
    },
    {
      "cell_type": "markdown",
      "source": [
        "Resposta: O que foi utilizado o Gradient Boost teve um score maior. Isso pode ter ocorrido por conta dos dados que foram utilizados ou da forma que o próprio algoritmo usou os dados."
      ],
      "metadata": {
        "id": "cnGh51RS8_we"
      }
    },
    {
      "cell_type": "markdown",
      "source": [
        "## **Modelo de Produção: Teste com novos dados - 1 ponto**\n",
        "\n",
        "8 - Use o seu modelo treinado para responder a pergunta do desafio:"
      ],
      "metadata": {
        "id": "YpNVMhSw9Fe7"
      }
    },
    {
      "cell_type": "code",
      "source": [
        "#Qual o preço de venda de um veículo Volkswagen Sedan 2.0 a gasolina, ano 2005, com cerca de 172095 km rodados?\n",
        "vw_sedan = pd.DataFrame({})\n",
        "\n",
        "tabela = X.columns.tolist()\n",
        "for i in tabela:\n",
        "  if i == 'Quilometros':\n",
        "    vw_sedan[i] = [172095]\n",
        "  elif i == 'Motor':\n",
        "    vw_sedan[i] = [2.0]\n",
        "  elif i == 'Ano':\n",
        "    vw_sedan[i] = [2005]\n",
        "  elif i == 'Marca_Volkswagen':\n",
        "    vw_sedan[i] = [1]\n",
        "  elif i == 'Corpo_sedan':\n",
        "    vw_sedan[i] = [1]\n",
        "  elif i == 'Combustivel_Gas':\n",
        "    vw_sedan[i] = [1]\n",
        "  else:\n",
        "    vw_sedan[i] = [0]\n",
        "\n",
        "preco = gbr.predict(vw_sedan)[0]\n",
        "print(f\"O veículo Volkswagen Sedan 2.0, ano 2005, com cerca de 172095 km rodados poderia ser vendido por R${preco:.2f}\")"
      ],
      "metadata": {
        "id": "zCssWHNU9R8P",
        "colab": {
          "base_uri": "https://localhost:8080/"
        },
        "outputId": "c14585cf-e624-4df2-be6f-3da0526cd75f"
      },
      "execution_count": null,
      "outputs": [
        {
          "output_type": "stream",
          "name": "stdout",
          "text": [
            "O veículo Volkswagen Sedan 2.0, ano 2005, com cerca de 172095 km rodados poderia ser vendido por R$11057.31\n"
          ]
        }
      ]
    }
  ]
}